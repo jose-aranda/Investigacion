{
  "nbformat": 4,
  "nbformat_minor": 0,
  "metadata": {
    "colab": {
      "provenance": [],
      "authorship_tag": "ABX9TyOXUuszG6gVFz7ux/3ejx5+",
      "include_colab_link": true
    },
    "kernelspec": {
      "name": "python3",
      "display_name": "Python 3"
    },
    "language_info": {
      "name": "python"
    }
  },
  "cells": [
    {
      "cell_type": "markdown",
      "metadata": {
        "id": "view-in-github",
        "colab_type": "text"
      },
      "source": [
        "<a href=\"https://colab.research.google.com/github/jose-aranda/Investigacion/blob/main/avg_hum_att.ipynb\" target=\"_parent\"><img src=\"https://colab.research.google.com/assets/colab-badge.svg\" alt=\"Open In Colab\"/></a>"
      ]
    },
    {
      "cell_type": "code",
      "source": [
        "from google.colab import drive\n",
        "drive.mount('/content/drive')"
      ],
      "metadata": {
        "id": "jhWICig9FOOs",
        "colab": {
          "base_uri": "https://localhost:8080/"
        },
        "outputId": "605bd55e-cdb1-438b-9d05-d09fd9944bb4"
      },
      "execution_count": null,
      "outputs": [
        {
          "output_type": "stream",
          "name": "stdout",
          "text": [
            "Mounted at /content/drive\n"
          ]
        }
      ]
    },
    {
      "cell_type": "code",
      "source": [
        "import numpy as np\n",
        "import os\n",
        "import pandas as pd\n",
        "import matplotlib.pyplot as plt\n",
        "from scipy.ndimage import gaussian_filter\n",
        "import numpy as np\n",
        "import os\n",
        "#from functions import create_heatmap, avg_heatmap"
      ],
      "metadata": {
        "id": "E1U-ByLMFLBq"
      },
      "execution_count": null,
      "outputs": []
    },
    {
      "cell_type": "code",
      "execution_count": null,
      "metadata": {
        "id": "goNQuQtWFDGB"
      },
      "outputs": [],
      "source": [
        "# funcion que crea distribucion gaussiana atencion, guarda csv regular y ajustada a vit\n",
        "def create_heatmap(surface_df,csv_file, cover_img, i, dir_obj):\n",
        "\n",
        "    cover_img = plt.imread(cover_img)\n",
        "    gaze_on_surf = pd.read_csv(surface_df)\n",
        "\n",
        "    #gaze_on_surf = surface_df\n",
        "    #gaze_on_surf = surface_df[surface_df.on_surf == True]\n",
        "    #gaze_on_surf = surface_df[(surface_df.confidence > 0.8)]\n",
        "\n",
        "    grid = cover_img.shape[0:2] # height, width of the loaded image\n",
        "    heatmap_detail = 0.01 # this will determine the gaussian blur kerner of the image (higher number = more blur)\n",
        "\n",
        "    #print(grid)\n",
        "\n",
        "    gaze_on_surf_x = gaze_on_surf['x_norm']\n",
        "    gaze_on_surf_y = gaze_on_surf['y_norm']\n",
        "\n",
        "    # flip the fixation points\n",
        "    # from the original coordinate system,\n",
        "    # where the origin is at botton left,\n",
        "    # to the image coordinate system,\n",
        "    # where the origin is at top left\n",
        "    gaze_on_surf_y = 1 - gaze_on_surf_y\n",
        "\n",
        "    # make the histogram\n",
        "    hist, x_edges, y_edges = np.histogram2d(\n",
        "        gaze_on_surf_y,\n",
        "        gaze_on_surf_x,\n",
        "        range=[[0, 1.0], [0, 1.0]],\n",
        "        #normed=False,\n",
        "        bins=grid\n",
        "    )\n",
        "\n",
        "    # gaussian blur kernel as a function of grid/surface size\n",
        "    filter_h = int(heatmap_detail * grid[0]) // 2 * 2 + 1\n",
        "    filter_w = int(heatmap_detail * grid[1]) // 2 * 2 + 1\n",
        "    heatmap = gaussian_filter(hist, sigma=(filter_w, filter_h), order=0)\n",
        "\n",
        "    #print(heatmap)\n",
        "    #print(type(heatmap))\n",
        "    # Specify the file path and name\n",
        "    #file_path = 'heatmap.csv'\n",
        "    # Save the array to a CSV file\n",
        "    #np.savetxt(file_path, heatmap, delimiter=',')\n",
        "\n",
        "\n",
        "    # Step 1: Get height and width\n",
        "    height, width = heatmap.shape\n",
        "\n",
        "    # Step 2: Calculate remainder\n",
        "    height_remainder = height % 16\n",
        "    width_remainder = width % 16\n",
        "\n",
        "    # Step 3: Eliminate last rows and columns\n",
        "    new_height = height - height_remainder\n",
        "    new_width = width - width_remainder\n",
        "\n",
        "    # Update the array by keeping only the relevant portion\n",
        "    your_array = heatmap[:new_height, :new_width]\n",
        "\n",
        "\n",
        "    # Save the array to a CSV file\n",
        "\n",
        "\n",
        "    np.savetxt(f\"/content/drive/MyDrive/resultados_ViT/{dir_obj}/hum/reminder_heatmap_{csv_file[:-4]}_{dir_obj}.csv\", your_array, delimiter=',')\n",
        "\n",
        "\n",
        "def avg_heatmap(dir_obj):\n",
        "# Initialize an empty DataFrame to store the cumulative sum of values\n",
        "    cumulative_sum = None\n",
        "    #print(\"avg\")\n",
        "    # Specify the path to the folder containing CSV files\n",
        "    csv_folder = f\"/content/drive/MyDrive/resultados_ViT/{dir_obj}/hum/\"\n",
        "    csv_files = sorted([file for file in os.listdir(csv_folder) if file.endswith(\".csv\")])\n",
        "\n",
        "    for csv_file in csv_files:\n",
        "      if csv_file != \"cum_reminder.csv\":\n",
        "          csv_path = os.path.join(csv_folder, csv_file)\n",
        "          if cumulative_sum is None:\n",
        "            cumulative_sum =  pd.read_csv(csv_path, header=None)\n",
        "          else:\n",
        "            cumulative_sum.add(pd.read_csv(csv_path, header=None))\n",
        "\n",
        "    cumulative_sum = cumulative_sum / len(csv_files)\n",
        "\n",
        "    # Optionally, save the result to a new CSV file\n",
        "    #average_values.to_csv('average_values_reminder.csv', index=False)\n",
        "    cumulative_sum.to_csv(f\"/content/drive/MyDrive/resultados_ViT/{dir_obj}/hum/cum_reminder.csv\", index=False, header=None)\n",
        "\n",
        "    #cover_img = plt.imread(jpg_file)\n",
        "    #plt.figure(figsize=(8,8))\n",
        "    #plt.imshow(cover_img)\n",
        "    #plt.imshow(cumulative_sum, cmap='jet', alpha=0.5)\n",
        "    #plt.axis('off')\n",
        "    #plt.savefig(\"cum_heatmap.png\")\n",
        "\n",
        "    return()"
      ]
    },
    {
      "cell_type": "code",
      "source": [
        "def gmm(list):\n",
        "  for i in list:\n",
        "    csv_folder = f\"/content/drive/MyDrive/resultados_ViT/{i}/pupil_data/\"\n",
        "\n",
        "\n",
        "    # List files in both CSV and JPG folders\n",
        "    csv_files = sorted([file for file in os.listdir(csv_folder) if file.endswith(\".csv\")])\n",
        "    jpg_file = f\"/content/drive/MyDrive/imagenes_vit/{i}.jpg\"\n",
        "\n",
        "# Process each pair of CSV and JPG files\n",
        "\n",
        "    for csv_file in csv_files:\n",
        "      csv_path = os.path.join(csv_folder, csv_file)\n",
        "\n",
        "      #creacion csv de dits guassiana\n",
        "      create_heatmap(csv_path,csv_file, jpg_file, jpg_file[:-4], i)\n",
        "\n",
        "    #print(csv_file)\n",
        "    #print(jpg_file)\n",
        "\n",
        "    avg_heatmap(i)"
      ],
      "metadata": {
        "id": "94Zt4BIEFFLY"
      },
      "execution_count": null,
      "outputs": []
    },
    {
      "cell_type": "code",
      "source": [
        "list = [\n",
        "  \"cesteria_01\", \"cesteria_02\", \"cesteria_03\", \"cesteria_04\", \"cesteria_05\",\n",
        "  \"cesteria_06\", \"cesteria_07\", \"cesteria_08\", \"cesteria_09\", \"cesteria_10\",\n",
        "  \"jarra_01\", \"jarra_02\", \"jarra_03\", \"jarra_04\", \"jarra_05\",\n",
        "  \"jarra_06\", \"jarra_07\", \"jarra_08\", \"jarra_09\", \"jarra_10\",\n",
        "]\n",
        "\n",
        "list = [ \"jarra_01\", \"jarra_02\", \"jarra_03\", \"jarra_04\", \"jarra_05\",\n",
        "  \"jarra_06\", \"jarra_07\", \"jarra_08\", \"jarra_09\", \"jarra_10\"]\n",
        "\n",
        "gmm(list)"
      ],
      "metadata": {
        "id": "m0P7HIn1Q_so"
      },
      "execution_count": null,
      "outputs": []
    }
  ]
}